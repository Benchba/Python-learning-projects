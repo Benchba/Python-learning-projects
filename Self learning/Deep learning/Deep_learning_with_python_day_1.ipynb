{
  "nbformat": 4,
  "nbformat_minor": 0,
  "metadata": {
    "colab": {
      "name": "Self learning - Deep learning with python day 1.ipynb",
      "provenance": [],
      "collapsed_sections": []
    },
    "kernelspec": {
      "name": "python3",
      "display_name": "Python 3"
    },
    "language_info": {
      "name": "python"
    }
  },
  "cells": [
    {
      "cell_type": "markdown",
      "source": [
        "## classify grayscale image of hand written "
      ],
      "metadata": {
        "id": "3pL0HnvnZ3jp"
      }
    },
    {
      "cell_type": "code",
      "execution_count": null,
      "metadata": {
        "id": "6xkCq9I8Zu-c"
      },
      "outputs": [],
      "source": [
        "from tensorflow.keras.datasets import mnist\n",
        "(train_images, train_labels), (test_images, test_labels) = mnist.load_data()"
      ]
    },
    {
      "cell_type": "code",
      "source": [
        "print(train_images.shape)\n",
        "print(len(train_labels))\n",
        "train_labels"
      ],
      "metadata": {
        "colab": {
          "base_uri": "https://localhost:8080/"
        },
        "id": "31a7JPGqahKS",
        "outputId": "88d41ec5-b42d-4fa8-ae5e-cb2344dd0c97"
      },
      "execution_count": null,
      "outputs": [
        {
          "output_type": "stream",
          "name": "stdout",
          "text": [
            "(60000, 28, 28)\n",
            "60000\n"
          ]
        },
        {
          "output_type": "execute_result",
          "data": {
            "text/plain": [
              "array([5, 0, 4, ..., 5, 6, 8], dtype=uint8)"
            ]
          },
          "metadata": {},
          "execution_count": 52
        }
      ]
    },
    {
      "cell_type": "code",
      "source": [
        "print(test_images.shape)\n",
        "print(len(test_labels))\n",
        "test_labels"
      ],
      "metadata": {
        "colab": {
          "base_uri": "https://localhost:8080/"
        },
        "id": "pGsSyUPvaxb_",
        "outputId": "f3e52a6c-2a2f-48cb-a71e-926aeba81b31"
      },
      "execution_count": null,
      "outputs": [
        {
          "output_type": "stream",
          "name": "stdout",
          "text": [
            "(10000, 28, 28)\n",
            "10000\n"
          ]
        },
        {
          "output_type": "execute_result",
          "data": {
            "text/plain": [
              "array([7, 2, 1, ..., 4, 5, 6], dtype=uint8)"
            ]
          },
          "metadata": {},
          "execution_count": 53
        }
      ]
    },
    {
      "cell_type": "code",
      "source": [
        "train_images.ndim"
      ],
      "metadata": {
        "colab": {
          "base_uri": "https://localhost:8080/"
        },
        "id": "A-Y_nWLImkrp",
        "outputId": "b88c9485-fd49-4795-db36-7bfdb829f180"
      },
      "execution_count": null,
      "outputs": [
        {
          "output_type": "execute_result",
          "data": {
            "text/plain": [
              "3"
            ]
          },
          "metadata": {},
          "execution_count": 54
        }
      ]
    },
    {
      "cell_type": "code",
      "source": [
        "import matplotlib.pyplot as plt\n",
        "digit = train_images[4]\n",
        "plt.imshow(digit, cmap = plt.cm.binary)\n",
        "plt.show()"
      ],
      "metadata": {
        "colab": {
          "base_uri": "https://localhost:8080/",
          "height": 265
        },
        "id": "u2cvYcs7mu09",
        "outputId": "862bc815-8c56-4808-f8d0-8eea0cf5e570"
      },
      "execution_count": null,
      "outputs": [
        {
          "output_type": "display_data",
          "data": {
            "text/plain": [
              "<Figure size 432x288 with 1 Axes>"
            ],
            "image/png": "[encoded data removed]"
          },
          "metadata": {
            "needs_background": "light"
          }
        }
      ]
    },
    {
      "cell_type": "code",
      "source": [
        "from tensorflow import keras\n",
        "from tensorflow.keras import layers\n",
        "model = keras.Sequential([\n",
        "                          layers.Dense(512, activation = 'relu'),   #densely connected (fully connected)\n",
        "                          layers.Dense(10, activation = 'softmax')  #10 way soft max classification layer\n",
        "])"
      ],
      "metadata": {
        "id": "pKD1lU4ZcE5T"
      },
      "execution_count": null,
      "outputs": []
    },
    {
      "cell_type": "code",
      "source": [
        "model.compile(optimizer = 'rmsprop',\n",
        "              loss = 'sparse_categorical_crossentropy',\n",
        "              metrics = [\"accuracy\"])"
      ],
      "metadata": {
        "id": "fFEh23RWerPp"
      },
      "execution_count": null,
      "outputs": []
    },
    {
      "cell_type": "code",
      "source": [
        "#Convert all values to [0, 1] interval\n",
        "train_images = train_images.reshape((60000, 28 * 28)) # return (60000, 784)\n",
        "train_images = train_images.astype(\"float32\") /255\n",
        "test_images = test_images.reshape((10000, 28 * 28))\n",
        "test_images = test_images.astype(\"float32\") /255"
      ],
      "metadata": {
        "id": "jo41DgTverY_"
      },
      "execution_count": null,
      "outputs": []
    },
    {
      "cell_type": "code",
      "source": [
        "train_images"
      ],
      "metadata": {
        "colab": {
          "base_uri": "https://localhost:8080/"
        },
        "id": "-4ooFONEf3Oo",
        "outputId": "e75da748-e33c-45af-ac4f-84167f3059c9"
      },
      "execution_count": null,
      "outputs": [
        {
          "output_type": "execute_result",
          "data": {
            "text/plain": [
              "array([[0., 0., 0., ..., 0., 0., 0.],\n",
              "       [0., 0., 0., ..., 0., 0., 0.],\n",
              "       [0., 0., 0., ..., 0., 0., 0.],\n",
              "       ...,\n",
              "       [0., 0., 0., ..., 0., 0., 0.],\n",
              "       [0., 0., 0., ..., 0., 0., 0.],\n",
              "       [0., 0., 0., ..., 0., 0., 0.]], dtype=float32)"
            ]
          },
          "metadata": {},
          "execution_count": 19
        }
      ]
    },
    {
      "cell_type": "code",
      "source": [
        "model.fit(train_images, train_labels, epochs = 5, batch_size = 128)"
      ],
      "metadata": {
        "colab": {
          "base_uri": "https://localhost:8080/"
        },
        "id": "mT9Al_BrgMYC",
        "outputId": "740c5dc3-d0cf-4c77-92c7-db0cc2d48d8c"
      },
      "execution_count": null,
      "outputs": [
        {
          "output_type": "stream",
          "name": "stdout",
          "text": [
            "Epoch 1/5\n",
            "469/469 [==============================] - 6s 11ms/step - loss: 0.2597 - accuracy: 0.9249\n",
            "Epoch 2/5\n",
            "469/469 [==============================] - 5s 11ms/step - loss: 0.1045 - accuracy: 0.9689\n",
            "Epoch 3/5\n",
            "469/469 [==============================] - 5s 11ms/step - loss: 0.0683 - accuracy: 0.9798\n",
            "Epoch 4/5\n",
            "469/469 [==============================] - 5s 11ms/step - loss: 0.0500 - accuracy: 0.9849\n",
            "Epoch 5/5\n",
            "469/469 [==============================] - 5s 11ms/step - loss: 0.0374 - accuracy: 0.9886\n"
          ]
        },
        {
          "output_type": "execute_result",
          "data": {
            "text/plain": [
              "<keras.callbacks.History at 0x7f8e7ea254d0>"
            ]
          },
          "metadata": {},
          "execution_count": 28
        }
      ]
    },
    {
      "cell_type": "code",
      "source": [
        "test_digits = test_images[0:10]\n",
        "predictions = model.predict(test_digits)\n",
        "predictions[0]"
      ],
      "metadata": {
        "colab": {
          "base_uri": "https://localhost:8080/"
        },
        "id": "D1gEzZZEhBn6",
        "outputId": "50b468a5-31d5-4a25-aebb-dc43e88423ea"
      },
      "execution_count": null,
      "outputs": [
        {
          "output_type": "execute_result",
          "data": {
            "text/plain": [
              "array([8.3556468e-09, 1.8174802e-10, 5.0465422e-07, 1.1256000e-03,\n",
              "       6.9114943e-11, 1.6448146e-07, 3.3589906e-13, 9.9886972e-01,\n",
              "       1.8678556e-06, 2.1744472e-06], dtype=float32)"
            ]
          },
          "metadata": {},
          "execution_count": 31
        }
      ]
    },
    {
      "cell_type": "markdown",
      "source": [
        "Use agrmax & argmin to find which numbers have the highest and lowest probability that computers can interpret"
      ],
      "metadata": {
        "id": "lQoh0aXM4__B"
      }
    },
    {
      "cell_type": "code",
      "source": [
        "print(predictions[0].argmax())\n",
        "print(predictions[0].argmin())"
      ],
      "metadata": {
        "colab": {
          "base_uri": "https://localhost:8080/"
        },
        "id": "CmSRnvJChkvr",
        "outputId": "1e864058-6eaa-4140-a5cf-d0c35b6b47e1"
      },
      "execution_count": null,
      "outputs": [
        {
          "output_type": "stream",
          "name": "stdout",
          "text": [
            "7\n",
            "6\n"
          ]
        }
      ]
    },
    {
      "cell_type": "code",
      "source": [
        "# probability\n",
        "print(predictions[0][7])\n",
        "print(predictions[0][6])"
      ],
      "metadata": {
        "colab": {
          "base_uri": "https://localhost:8080/"
        },
        "id": "7fKok4B3htD7",
        "outputId": "50e1649d-61e8-4558-e77e-1befa6188e8f"
      },
      "execution_count": null,
      "outputs": [
        {
          "output_type": "stream",
          "name": "stdout",
          "text": [
            "0.9988697\n",
            "3.3589906e-13\n"
          ]
        }
      ]
    },
    {
      "cell_type": "markdown",
      "source": [
        "7 has the highest probability for computer to interpret this number, but 6 has the lowest probability."
      ],
      "metadata": {
        "id": "4VB3ntyL5oSh"
      }
    },
    {
      "cell_type": "code",
      "source": [
        "#check with test data\n",
        "test_labels[0]"
      ],
      "metadata": {
        "colab": {
          "base_uri": "https://localhost:8080/"
        },
        "id": "wemCl6L6hyaL",
        "outputId": "fdc5d40e-6287-45c4-e165-f33afc979b74"
      },
      "execution_count": null,
      "outputs": [
        {
          "output_type": "execute_result",
          "data": {
            "text/plain": [
              "7"
            ]
          },
          "metadata": {},
          "execution_count": 34
        }
      ]
    },
    {
      "cell_type": "code",
      "source": [
        "test_loss, test_acc = model.evaluate(test_images, test_labels)\n",
        "print(f\"test_acc: {test_acc}\")"
      ],
      "metadata": {
        "colab": {
          "base_uri": "https://localhost:8080/"
        },
        "id": "Qce3Ub6Iiife",
        "outputId": "1ceebc3a-d0b6-4ec3-d2c7-027d56325161"
      },
      "execution_count": null,
      "outputs": [
        {
          "output_type": "stream",
          "name": "stdout",
          "text": [
            "313/313 [==============================] - 1s 3ms/step - loss: 0.0811 - accuracy: 0.9747\n",
            "test_acc: 0.9746999740600586\n"
          ]
        }
      ]
    },
    {
      "cell_type": "code",
      "source": [
        "# rank-0 tensor (Scalar)\n",
        "import numpy as np\n",
        "x = np.array(12)\n",
        "x.ndim"
      ],
      "metadata": {
        "colab": {
          "base_uri": "https://localhost:8080/"
        },
        "id": "rGwyGx4hjyyp",
        "outputId": "18c5ee7b-26ef-4ee1-a413-db3453338e1a"
      },
      "execution_count": null,
      "outputs": [
        {
          "output_type": "execute_result",
          "data": {
            "text/plain": [
              "0"
            ]
          },
          "metadata": {},
          "execution_count": 38
        }
      ]
    },
    {
      "cell_type": "code",
      "source": [
        "# rank-1 tensor (Vector)\n",
        "x = np.array([12, 3, 6, 14, 7]) # 5 dimensional vectors\n",
        "x.ndim"
      ],
      "metadata": {
        "colab": {
          "base_uri": "https://localhost:8080/"
        },
        "id": "0AVtrqOyj7_E",
        "outputId": "6d5f1b19-3b7e-44e3-dfdf-07c6153d58e0"
      },
      "execution_count": null,
      "outputs": [
        {
          "output_type": "execute_result",
          "data": {
            "text/plain": [
              "1"
            ]
          },
          "metadata": {},
          "execution_count": 40
        }
      ]
    },
    {
      "cell_type": "code",
      "source": [
        "# rank-2 tensor (Matrices)\n",
        "x = np.array([[5, 78, 2, 34, 0],\n",
        "             [6, 79, 3, 35, 1],\n",
        "             [7, 80, 4, 36, 2]]) \n",
        "x.ndim"
      ],
      "metadata": {
        "colab": {
          "base_uri": "https://localhost:8080/"
        },
        "outputId": "c578902b-f592-47d9-f01d-572ab5b3cfef",
        "id": "PPPZdu4Bk3_-"
      },
      "execution_count": null,
      "outputs": [
        {
          "output_type": "execute_result",
          "data": {
            "text/plain": [
              "2"
            ]
          },
          "metadata": {},
          "execution_count": 45
        }
      ]
    },
    {
      "cell_type": "code",
      "source": [
        "# rank-3 tensor \n",
        "x = np.array([[[5, 78, 2, 34, 0],\n",
        "             [6, 79, 3, 35, 1],\n",
        "             [7, 80, 4, 36, 2]],\n",
        "             [[5, 78, 2, 34, 0],\n",
        "             [6, 79, 3, 35, 1],\n",
        "             [7, 80, 4, 36, 2]],\n",
        "             [[5, 78, 2, 34, 0],\n",
        "             [6, 79, 3, 35, 1],\n",
        "             [7, 80, 4, 36, 2]]]) \n",
        "x.ndim"
      ],
      "metadata": {
        "colab": {
          "base_uri": "https://localhost:8080/"
        },
        "id": "M1pP9ovKk3mW",
        "outputId": "35a4a55f-e17d-41e4-fc83-6335d24106d5"
      },
      "execution_count": null,
      "outputs": [
        {
          "output_type": "execute_result",
          "data": {
            "text/plain": [
              "3"
            ]
          },
          "metadata": {},
          "execution_count": 47
        }
      ]
    }
  ]
}
