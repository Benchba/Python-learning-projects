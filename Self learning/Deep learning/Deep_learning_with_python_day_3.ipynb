{
  "nbformat": 4,
  "nbformat_minor": 0,
  "metadata": {
    "colab": {
      "name": "Deep_learning_with_python_day_3.ipynb",
      "provenance": [],
      "collapsed_sections": []
    },
    "kernelspec": {
      "name": "python3",
      "display_name": "Python 3"
    },
    "language_info": {
      "name": "python"
    }
  },
  "cells": [
    {
      "cell_type": "markdown",
      "source": [
        "In day 3, I'm going to create a model to classify movie reviews using a binary classification which is the most common kinds of machine learning problems.\n",
        "\n",
        "* The dataset is from IMDB which comes with Keras package.\n",
        "* The dataset contains 50,000 reviews from Internet which can split to 25,000 train data and 25,000 test data. Each split contain 50% of negative and 50% positive reviews.\n",
        "* The data in package is already preprocessing. So, this practice will focus only model building, training and evaluation"
      ],
      "metadata": {
        "id": "eS2VCXvpDfWp"
      }
    },
    {
      "cell_type": "code",
      "execution_count": 2,
      "metadata": {
        "id": "_GWlp-3SDO_K"
      },
      "outputs": [],
      "source": [
        "from tensorflow.keras.datasets import imdb\n",
        "(train_data, train_labels), (test_data, test_labels) = imdb.load_data(num_words = 10000) # keep the top 10,000 most frequently occured words"
      ]
    },
    {
      "cell_type": "code",
      "source": [
        "print(train_data[0]) # each review is a list of word indices (squence of words)\n",
        "print(train_labels[0]) # negative = 0, positive = 1"
      ],
      "metadata": {
        "colab": {
          "base_uri": "https://localhost:8080/"
        },
        "id": "9eoF5desFIw-",
        "outputId": "0a178ecb-4c58-427c-dfab-23cbd8ca1cf9"
      },
      "execution_count": 4,
      "outputs": [
        {
          "output_type": "stream",
          "name": "stdout",
          "text": [
            "[1, 14, 22, 16, 43, 530, 973, 1622, 1385, 65, 458, 4468, 66, 3941, 4, 173, 36, 256, 5, 25, 100, 43, 838, 112, 50, 670, 2, 9, 35, 480, 284, 5, 150, 4, 172, 112, 167, 2, 336, 385, 39, 4, 172, 4536, 1111, 17, 546, 38, 13, 447, 4, 192, 50, 16, 6, 147, 2025, 19, 14, 22, 4, 1920, 4613, 469, 4, 22, 71, 87, 12, 16, 43, 530, 38, 76, 15, 13, 1247, 4, 22, 17, 515, 17, 12, 16, 626, 18, 2, 5, 62, 386, 12, 8, 316, 8, 106, 5, 4, 2223, 5244, 16, 480, 66, 3785, 33, 4, 130, 12, 16, 38, 619, 5, 25, 124, 51, 36, 135, 48, 25, 1415, 33, 6, 22, 12, 215, 28, 77, 52, 5, 14, 407, 16, 82, 2, 8, 4, 107, 117, 5952, 15, 256, 4, 2, 7, 3766, 5, 723, 36, 71, 43, 530, 476, 26, 400, 317, 46, 7, 4, 2, 1029, 13, 104, 88, 4, 381, 15, 297, 98, 32, 2071, 56, 26, 141, 6, 194, 7486, 18, 4, 226, 22, 21, 134, 476, 26, 480, 5, 144, 30, 5535, 18, 51, 36, 28, 224, 92, 25, 104, 4, 226, 65, 16, 38, 1334, 88, 12, 16, 283, 5, 16, 4472, 113, 103, 32, 15, 16, 5345, 19, 178, 32]\n",
            "1\n"
          ]
        }
      ]
    },
    {
      "cell_type": "code",
      "source": [
        "# As restricted only 10,000 words. The index must not exceed 10,000 (0 - 9999)\n",
        "max([max(sequence) for sequence in train_data])"
      ],
      "metadata": {
        "colab": {
          "base_uri": "https://localhost:8080/"
        },
        "id": "yCSkLclQFy5e",
        "outputId": "8d8bf009-7591-41bd-f535-dc1b72ed2fb7"
      },
      "execution_count": 7,
      "outputs": [
        {
          "output_type": "execute_result",
          "data": {
            "text/plain": [
              "9999"
            ]
          },
          "metadata": {},
          "execution_count": 7
        }
      ]
    },
    {
      "cell_type": "code",
      "source": [
        "word_index = imdb.get_word_index() # a dictionary mapping words to integer index\n",
        "reverse_word_index = dict(\n",
        "    [(value, key) for (key, value) in word_index.items()]) # reverse it mapping indices to words\n",
        "decoded_review = \" \".join(\n",
        "    [reverse_word_index.get( i - 3, \"?\") for i in train_data[0]]) # decodes the review. \n",
        "#Note: indices are offset by 3 because 0, 1, 2 are reserved indices for \"padding\", \"start of sequence\", \" unknown\""
      ],
      "metadata": {
        "id": "t1Y3muR6GV6W"
      },
      "execution_count": 9,
      "outputs": []
    },
    {
      "cell_type": "markdown",
      "source": [
        "## Preprocessing data\n",
        "\n",
        "We can't feed lists of integers into a neural network directly as they have different lengths. Neural network expect to process contiguous batches of data. The list have to turn into tensors for further processing"
      ],
      "metadata": {
        "id": "GiKWLiCSIDkY"
      }
    },
    {
      "cell_type": "code",
      "source": [
        "# Encoding the integer sequences via multi-hot encoding\n",
        "import numpy as np\n",
        "def vectorize_sequences(seqeunces, dimension = 10000):\n",
        "    results = np.zeros((len(seqeunces), dimension))\n",
        "    for i, sequence in enumerate(seqeunces):\n",
        "        for j in sequence:\n",
        "            results[i, j] = 1.  #sets specific indices of result[i] to 1s\n",
        "    return results\n",
        "x_train = vectorize_sequences(train_data)\n",
        "x_test = vectorize_sequences(test_data)"
      ],
      "metadata": {
        "id": "Pa3dVuFpHFr3"
      },
      "execution_count": 11,
      "outputs": []
    },
    {
      "cell_type": "code",
      "source": [
        "x_train[0]"
      ],
      "metadata": {
        "colab": {
          "base_uri": "https://localhost:8080/"
        },
        "id": "oJk822cmKBBU",
        "outputId": "45670edb-f10f-4b7c-cdf6-eab87839c19d"
      },
      "execution_count": 12,
      "outputs": [
        {
          "output_type": "execute_result",
          "data": {
            "text/plain": [
              "array([0., 1., 1., ..., 0., 0., 0.])"
            ]
          },
          "metadata": {},
          "execution_count": 12
        }
      ]
    },
    {
      "cell_type": "code",
      "source": [
        "y_train = np.asarray(train_labels).astype(\"float32\")\n",
        "y_test = np.asarray(test_labels).astype(\"float32\")"
      ],
      "metadata": {
        "id": "wd2n5ooHKM0j"
      },
      "execution_count": 13,
      "outputs": []
    },
    {
      "cell_type": "markdown",
      "source": [
        "## building your model\n",
        "\n",
        "input data: vectors\n",
        "labels: scalar (1s and 0s)\n",
        "the best activation func. to apply for this problem is Relu with a densely connected (fully connect)\n",
        "\n",
        "* The problem assigns us to use two intermediate layers with 16 units each\n",
        "* The third layer will output the scalar prediction (1 units)"
      ],
      "metadata": {
        "id": "FAr5BIaQKfcz"
      }
    },
    {
      "cell_type": "code",
      "source": [
        "from tensorflow import keras\n",
        "from tensorflow.keras import layers\n",
        "\n",
        "model = keras.Sequential([\n",
        "                          layers.Dense(16, activation = \"relu\"),\n",
        "                          layers.Dense(16, activation = \"relu\"),\n",
        "                          layers.Dense(1, activation = \"sigmoid\") # Binary classification\n",
        "])"
      ],
      "metadata": {
        "id": "kdtjdbk_KaIc"
      },
      "execution_count": 15,
      "outputs": []
    },
    {
      "cell_type": "code",
      "source": [
        "# compilling the model\n",
        "# use Crossentropy as a loss func.\n",
        "# use optimizer as rmsprop\n",
        "model.compile(optimizer = \"rmsprop\",\n",
        "              loss = \"binary_crossentropy\",\n",
        "              metrics = [\"accuracy\"])"
      ],
      "metadata": {
        "id": "iLbRs8cFLq7i"
      },
      "execution_count": 16,
      "outputs": []
    },
    {
      "cell_type": "code",
      "source": [
        ""
      ],
      "metadata": {
        "id": "kvLjYx_mN91C"
      },
      "execution_count": null,
      "outputs": []
    },
    {
      "cell_type": "markdown",
      "source": [
        "## Validating approach"
      ],
      "metadata": {
        "id": "4WPTLByROACW"
      }
    },
    {
      "cell_type": "code",
      "source": [
        "# Setting aside a validation set\n",
        "x_val = x_train[:10000]\n",
        "partial_x_train = x_train[10000:]\n",
        "y_val = y_train[:10000]\n",
        "partial_y_train = y_train[10000:]"
      ],
      "metadata": {
        "id": "qXnkWCSrOCu6"
      },
      "execution_count": 17,
      "outputs": []
    },
    {
      "cell_type": "code",
      "source": [
        "# train 20 epochs of mini batch 512 samples\n",
        "# monitor loss and accuracy on the 10,000 sample\n",
        "history = model.fit(partial_x_train,\n",
        "                    partial_y_train,\n",
        "                    epochs = 20,\n",
        "                    batch_size = 512,\n",
        "                    validation_data = (x_val, y_val))"
      ],
      "metadata": {
        "colab": {
          "base_uri": "https://localhost:8080/"
        },
        "id": "IEKp8rw5OSir",
        "outputId": "29b6ac21-0f07-4aad-dbb6-4a00a224c389"
      },
      "execution_count": 18,
      "outputs": [
        {
          "output_type": "stream",
          "name": "stdout",
          "text": [
            "Epoch 1/20\n",
            "30/30 [==============================] - 3s 69ms/step - loss: 0.5094 - accuracy: 0.7846 - val_loss: 0.3783 - val_accuracy: 0.8710\n",
            "Epoch 2/20\n",
            "30/30 [==============================] - 1s 49ms/step - loss: 0.3022 - accuracy: 0.9043 - val_loss: 0.3172 - val_accuracy: 0.8796\n",
            "Epoch 3/20\n",
            "30/30 [==============================] - 1s 48ms/step - loss: 0.2224 - accuracy: 0.9275 - val_loss: 0.2773 - val_accuracy: 0.8906\n",
            "Epoch 4/20\n",
            "30/30 [==============================] - 1s 49ms/step - loss: 0.1703 - accuracy: 0.9443 - val_loss: 0.3054 - val_accuracy: 0.8792\n",
            "Epoch 5/20\n",
            "30/30 [==============================] - 1s 48ms/step - loss: 0.1346 - accuracy: 0.9585 - val_loss: 0.2903 - val_accuracy: 0.8871\n",
            "Epoch 6/20\n",
            "30/30 [==============================] - 1s 48ms/step - loss: 0.1157 - accuracy: 0.9640 - val_loss: 0.3006 - val_accuracy: 0.8854\n",
            "Epoch 7/20\n",
            "30/30 [==============================] - 1s 49ms/step - loss: 0.0960 - accuracy: 0.9717 - val_loss: 0.3167 - val_accuracy: 0.8815\n",
            "Epoch 8/20\n",
            "30/30 [==============================] - 1s 49ms/step - loss: 0.0807 - accuracy: 0.9772 - val_loss: 0.3386 - val_accuracy: 0.8800\n",
            "Epoch 9/20\n",
            "30/30 [==============================] - 1s 49ms/step - loss: 0.0633 - accuracy: 0.9849 - val_loss: 0.3832 - val_accuracy: 0.8728\n",
            "Epoch 10/20\n",
            "30/30 [==============================] - 1s 49ms/step - loss: 0.0563 - accuracy: 0.9852 - val_loss: 0.3974 - val_accuracy: 0.8755\n",
            "Epoch 11/20\n",
            "30/30 [==============================] - 1s 48ms/step - loss: 0.0452 - accuracy: 0.9885 - val_loss: 0.4128 - val_accuracy: 0.8751\n",
            "Epoch 12/20\n",
            "30/30 [==============================] - 1s 48ms/step - loss: 0.0346 - accuracy: 0.9930 - val_loss: 0.5082 - val_accuracy: 0.8604\n",
            "Epoch 13/20\n",
            "30/30 [==============================] - 1s 48ms/step - loss: 0.0310 - accuracy: 0.9932 - val_loss: 0.4699 - val_accuracy: 0.8731\n",
            "Epoch 14/20\n",
            "30/30 [==============================] - 1s 50ms/step - loss: 0.0266 - accuracy: 0.9936 - val_loss: 0.4998 - val_accuracy: 0.8716\n",
            "Epoch 15/20\n",
            "30/30 [==============================] - 1s 49ms/step - loss: 0.0165 - accuracy: 0.9987 - val_loss: 0.5418 - val_accuracy: 0.8697\n",
            "Epoch 16/20\n",
            "30/30 [==============================] - 1s 50ms/step - loss: 0.0159 - accuracy: 0.9981 - val_loss: 0.5663 - val_accuracy: 0.8686\n",
            "Epoch 17/20\n",
            "30/30 [==============================] - 1s 49ms/step - loss: 0.0139 - accuracy: 0.9973 - val_loss: 0.5986 - val_accuracy: 0.8680\n",
            "Epoch 18/20\n",
            "30/30 [==============================] - 1s 49ms/step - loss: 0.0133 - accuracy: 0.9973 - val_loss: 0.6251 - val_accuracy: 0.8663\n",
            "Epoch 19/20\n",
            "30/30 [==============================] - 2s 51ms/step - loss: 0.0060 - accuracy: 0.9997 - val_loss: 0.7215 - val_accuracy: 0.8559\n",
            "Epoch 20/20\n",
            "30/30 [==============================] - 1s 47ms/step - loss: 0.0080 - accuracy: 0.9989 - val_loss: 0.6924 - val_accuracy: 0.8645\n"
          ]
        }
      ]
    },
    {
      "cell_type": "code",
      "source": [
        "history_dict = history.history\n",
        "history_dict.keys()"
      ],
      "metadata": {
        "colab": {
          "base_uri": "https://localhost:8080/"
        },
        "id": "FwrOq8ecOoSg",
        "outputId": "53ded7a7-fcaa-40bc-8212-ba4f7fa4824b"
      },
      "execution_count": 19,
      "outputs": [
        {
          "output_type": "execute_result",
          "data": {
            "text/plain": [
              "dict_keys(['loss', 'accuracy', 'val_loss', 'val_accuracy'])"
            ]
          },
          "metadata": {},
          "execution_count": 19
        }
      ]
    },
    {
      "cell_type": "code",
      "source": [
        "# plotting the training and validation loss\n",
        "import matplotlib.pyplot as plt\n",
        "history_dict = history.history\n",
        "loss_values = history_dict[\"loss\"]\n",
        "val_loss_values = history_dict[\"val_loss\"]\n",
        "epochs = range(1, len(loss_values)+1)\n",
        "plt.plot(epochs, loss_values, \"bo\", label = \"Training loss\") # \"bo\" = \"blue dot\"\n",
        "plt.plot(epochs, val_loss_values, \"r\", label = \"Validation loss\")\n",
        "plt.title(\"Training and validation loss\")\n",
        "plt.xlabel(\"Epochs\")\n",
        "plt.ylabel(\"Loss\")\n",
        "plt.legend()\n",
        "plt.show()"
      ],
      "metadata": {
        "colab": {
          "base_uri": "https://localhost:8080/",
          "height": 295
        },
        "id": "ZMhLgAZzO-GA",
        "outputId": "3153c88b-aa9c-4f50-8888-8d292406c8dc"
      },
      "execution_count": 21,
      "outputs": [
        {
          "output_type": "display_data",
          "data": {
            "text/plain": [
              "<Figure size 432x288 with 1 Axes>"
            ],
            "image/png": "[encoded data removed]"
          },
          "metadata": {
            "needs_background": "light"
          }
        }
      ]
    },
    {
      "cell_type": "code",
      "source": [
        "plt.clf()\n",
        "acc = history_dict[\"accuracy\"]\n",
        "val_acc = history_dict[\"val_accuracy\"]\n",
        "epochs = range(1, len(loss_values)+1)\n",
        "plt.plot(epochs, acc, \"bo\", label = \"Training acc\") # \"bo\" = \"blue dot\"\n",
        "plt.plot(epochs, val_acc, \"r\", label = \"Validation acc\")\n",
        "plt.title(\"Training and validation accuracy\")\n",
        "plt.xlabel(\"Epochs\")\n",
        "plt.ylabel(\"Accuracy\")\n",
        "plt.legend()\n",
        "plt.show()"
      ],
      "metadata": {
        "colab": {
          "base_uri": "https://localhost:8080/",
          "height": 295
        },
        "id": "H_AjMqXzP8cH",
        "outputId": "acdedb53-ed3e-4fd7-f8b1-a78c97c06654"
      },
      "execution_count": 22,
      "outputs": [
        {
          "output_type": "display_data",
          "data": {
            "text/plain": [
              "<Figure size 432x288 with 1 Axes>"
            ],
            "image/png": "[encoded data removed]"
          },
          "metadata": {
            "needs_background": "light"
          }
        }
      ]
    },
    {
      "cell_type": "markdown",
      "source": [
        "From those 2 graphs, we can see that the increased epoch makes the loss of data decreases and the accuray of train data increase. However, for validation data, it is oppisite from the train data. This problem tells us that our model is \"Overfitting\"\n",
        "\n",
        "In this case, we should stop training at 4 epochs to mitigate overfitting. (there is another way to reduce overfitting, but it is cover it other chapter.)"
      ],
      "metadata": {
        "id": "6KIQLGj9QluL"
      }
    },
    {
      "cell_type": "code",
      "source": [
        "model = keras.Sequential([\n",
        "                          layers.Dense(16, activation = \"relu\"),\n",
        "                          layers.Dense(16, activation = \"relu\"),\n",
        "                          layers.Dense(1, activation = \"sigmoid\")\n",
        "])\n",
        "\n",
        "model.compile(optimizer = \"rmsprop\",\n",
        "              loss = \"binary_crossentropy\",\n",
        "              metrics = [\"accuracy\"])\n",
        "\n",
        "model.fit(x_train, y_train, epochs = 4, batch_size = 512)\n",
        "results = model.evaluate(x_test, y_test)\n"
      ],
      "metadata": {
        "colab": {
          "base_uri": "https://localhost:8080/"
        },
        "id": "F6FMVyOQQbKQ",
        "outputId": "4794cc8e-f5c4-4a16-f27d-71b58ab67a64"
      },
      "execution_count": 23,
      "outputs": [
        {
          "output_type": "stream",
          "name": "stdout",
          "text": [
            "Epoch 1/4\n",
            "49/49 [==============================] - 2s 33ms/step - loss: 0.4370 - accuracy: 0.8287\n",
            "Epoch 2/4\n",
            "49/49 [==============================] - 2s 33ms/step - loss: 0.2540 - accuracy: 0.9108\n",
            "Epoch 3/4\n",
            "49/49 [==============================] - 2s 33ms/step - loss: 0.1988 - accuracy: 0.9284\n",
            "Epoch 4/4\n",
            "49/49 [==============================] - 2s 33ms/step - loss: 0.1675 - accuracy: 0.9398\n",
            "782/782 [==============================] - 2s 2ms/step - loss: 0.2928 - accuracy: 0.8839\n"
          ]
        }
      ]
    },
    {
      "cell_type": "code",
      "source": [
        "# 0.29 is the test loss\n",
        "# 0.88 is the accuracy loss\n",
        "results"
      ],
      "metadata": {
        "colab": {
          "base_uri": "https://localhost:8080/"
        },
        "id": "OSDckxJuSNW4",
        "outputId": "6ddaa175-c8ac-409d-82cd-1eaa3f39b6a5"
      },
      "execution_count": 26,
      "outputs": [
        {
          "output_type": "execute_result",
          "data": {
            "text/plain": [
              "[0.29277336597442627, 0.8838800191879272]"
            ]
          },
          "metadata": {},
          "execution_count": 26
        }
      ]
    },
    {
      "cell_type": "code",
      "source": [
        "# test on new data\n",
        "model.predict(x_test)"
      ],
      "metadata": {
        "colab": {
          "base_uri": "https://localhost:8080/"
        },
        "id": "F8msCOKlSRsj",
        "outputId": "91a6a87a-19ae-4594-d0e7-51bd295ba234"
      },
      "execution_count": 28,
      "outputs": [
        {
          "output_type": "execute_result",
          "data": {
            "text/plain": [
              "array([[0.26624185],\n",
              "       [0.9998356 ],\n",
              "       [0.9043993 ],\n",
              "       ...,\n",
              "       [0.10862574],\n",
              "       [0.06352964],\n",
              "       [0.53965104]], dtype=float32)"
            ]
          },
          "metadata": {},
          "execution_count": 28
        }
      ]
    },
    {
      "cell_type": "markdown",
      "source": [
        "From prediction, we can see that the model is confident for some samples (0.99 or more, 0.01 or less) but less confident for others (0.5)"
      ],
      "metadata": {
        "id": "vwe3fN01S2zr"
      }
    },
    {
      "cell_type": "code",
      "source": [
        ""
      ],
      "metadata": {
        "id": "hkU1PtPEStbz"
      },
      "execution_count": null,
      "outputs": []
    }
  ]
}